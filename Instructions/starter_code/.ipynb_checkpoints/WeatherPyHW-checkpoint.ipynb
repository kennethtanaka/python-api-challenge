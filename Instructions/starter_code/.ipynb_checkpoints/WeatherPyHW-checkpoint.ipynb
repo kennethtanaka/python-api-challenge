{
 "cells": [
  {
   "cell_type": "markdown",
   "metadata": {},
   "source": [
    "# WeatherPy\n",
    "----\n",
    "\n",
    "#### Note\n",
    "* Instructions have been included for each segment. You do not have to follow them exactly, but they are included to help you think through the steps."
   ]
  },
  {
   "cell_type": "code",
   "execution_count": 1,
   "metadata": {
    "scrolled": true
   },
   "outputs": [],
   "source": [
    "# Dependencies and Setup\n",
    "import matplotlib.pyplot as plt\n",
    "import pandas as pd\n",
    "import numpy as np\n",
    "import requests\n",
    "import time\n",
    "\n",
    "# Import API key\n",
    "from api_keys import api_key\n",
    "\n",
    "# Incorporated citipy to determine city based on latitude and longitude\n",
    "from citipy import citipy\n",
    "\n",
    "# Output File (CSV)\n",
    "output_data_file = \"output_data/cities.csv\"\n",
    "\n",
    "# Range of latitudes and longitudes\n",
    "lat_range = (-90, 90)\n",
    "lng_range = (-180, 180)"
   ]
  },
  {
   "cell_type": "markdown",
   "metadata": {},
   "source": [
    "## Generate Cities List"
   ]
  },
  {
   "cell_type": "code",
   "execution_count": 2,
   "metadata": {},
   "outputs": [
    {
     "data": {
      "text/plain": [
       "641"
      ]
     },
     "execution_count": 2,
     "metadata": {},
     "output_type": "execute_result"
    }
   ],
   "source": [
    "# List for holding lat_lngs and cities\n",
    "lat_lngs = []\n",
    "cities = []\n",
    "\n",
    "# Create a set of random lat and lng combinations\n",
    "lats = np.random.uniform(low=-90.000, high=90.000, size=1500)\n",
    "lngs = np.random.uniform(low=-180.000, high=180.000, size=1500)\n",
    "lat_lngs = zip(lats, lngs)\n",
    "\n",
    "# Identify nearest city for each lat, lng combination\n",
    "for lat_lng in lat_lngs:\n",
    "    city = citipy.nearest_city(lat_lng[0], lat_lng[1]).city_name\n",
    "    \n",
    "    # If the city is unique, then add it to a our cities list\n",
    "    if city not in cities:\n",
    "        cities.append(city)\n",
    "\n",
    "# Print the city count to confirm sufficient count\n",
    "len(cities)"
   ]
  },
  {
   "cell_type": "markdown",
   "metadata": {},
   "source": [
    "### Perform API Calls\n",
    "* Perform a weather check on each city using a series of successive API calls.\n",
    "* Include a print log of each city as it'sbeing processed (with the city number and city name).\n"
   ]
  },
  {
   "cell_type": "code",
   "execution_count": 3,
   "metadata": {},
   "outputs": [],
   "source": [
    "#Save config information.\n",
    "#API call: http://api.openweathermap.org/data/2.5/forecast?id=524901&APPID={APIKEY}\n",
    "#API call: api.openweathermap.org/data/2.5/weather?q={city name}\n",
    "url = \"http://api.openweathermap.org/data/2.5/weather?\""
   ]
  },
  {
   "cell_type": "code",
   "execution_count": 4,
   "metadata": {
    "scrolled": false
   },
   "outputs": [
    {
     "name": "stdout",
     "output_type": "stream",
     "text": [
      "Processing Record 1 | albany\n",
      "Processing Record 2 | matsusaka\n",
      "Processing Record 3 | cayenne\n",
      "City not found. Skipping...\n",
      "Processing Record 4 | yangjiang\n",
      "Processing Record 5 | busselton\n",
      "Processing Record 6 | hobyo\n",
      "Processing Record 7 | madona\n",
      "Processing Record 8 | port blair\n",
      "Processing Record 9 | quatre cocos\n",
      "Processing Record 10 | nanortalik\n",
      "Processing Record 11 | punta arenas\n",
      "Processing Record 12 | loandjili\n",
      "Processing Record 13 | palu\n",
      "Processing Record 14 | hobart\n",
      "Processing Record 15 | san quintin\n",
      "Processing Record 16 | atuona\n",
      "Processing Record 17 | erenhot\n",
      "Processing Record 18 | hasaki\n",
      "City not found. Skipping...\n",
      "Processing Record 19 | snezhnogorsk\n",
      "Processing Record 20 | airai\n",
      "Processing Record 21 | georgetown\n",
      "Processing Record 22 | longyearbyen\n",
      "Processing Record 23 | mataura\n",
      "Processing Record 24 | lagoa\n",
      "Processing Record 25 | ushuaia\n",
      "Processing Record 26 | east london\n",
      "Processing Record 27 | gigmoto\n",
      "Processing Record 28 | puerto ayacucho\n",
      "Processing Record 29 | tekeli\n",
      "Processing Record 30 | kavaratti\n",
      "Processing Record 31 | ancud\n",
      "Processing Record 32 | hermanus\n",
      "City not found. Skipping...\n",
      "Processing Record 33 | visby\n",
      "Processing Record 34 | valday\n",
      "Processing Record 35 | mahebourg\n",
      "Processing Record 36 | qaanaaq\n",
      "City not found. Skipping...\n",
      "Processing Record 37 | markova\n",
      "Processing Record 38 | rikitea\n",
      "Processing Record 39 | caravelas\n",
      "Processing Record 40 | dali\n",
      "Processing Record 41 | tasiilaq\n",
      "Processing Record 42 | kruisfontein\n",
      "Processing Record 43 | changde\n",
      "Processing Record 44 | tautira\n",
      "Processing Record 45 | riyadh\n",
      "Processing Record 46 | willowmore\n",
      "Processing Record 47 | puerto ayora\n",
      "City not found. Skipping...\n",
      "Processing Record 48 | kopashnovo\n",
      "Processing Record 49 | husavik\n",
      "Processing Record 50 | dikson\n",
      "Processing Record 51 | shaunavon\n",
      "Processing Record 52 | norman wells\n",
      "Processing Record 53 | dingle\n",
      "Processing Record 54 | konstantinovskaya\n",
      "Processing Record 55 | juquia\n",
      "Processing Record 56 | sao joao da barra\n",
      "Processing Record 57 | bonavista\n",
      "Processing Record 58 | goderich\n",
      "Processing Record 59 | hofn\n",
      "Processing Record 60 | zhigansk\n",
      "Processing Record 61 | port alfred\n",
      "Processing Record 62 | torbay\n",
      "Processing Record 63 | guerrero negro\n",
      "Processing Record 64 | gizo\n",
      "Processing Record 65 | hithadhoo\n",
      "Processing Record 66 | port elizabeth\n",
      "Processing Record 67 | jamestown\n",
      "Processing Record 68 | evensk\n",
      "City not found. Skipping...\n",
      "Processing Record 69 | chicama\n",
      "City not found. Skipping...\n",
      "Processing Record 70 | leningradskiy\n",
      "Processing Record 71 | poum\n",
      "Processing Record 72 | butaritari\n",
      "Processing Record 73 | nikolskoye\n",
      "Processing Record 74 | sawakin\n",
      "Processing Record 75 | villa maria\n",
      "Processing Record 76 | banda aceh\n",
      "Processing Record 77 | cockburn town\n",
      "Processing Record 78 | usolye\n",
      "Processing Record 79 | inyonga\n",
      "Processing Record 80 | roald\n",
      "Processing Record 81 | avarua\n",
      "Processing Record 82 | yumen\n",
      "Processing Record 83 | namibe\n",
      "Processing Record 84 | khatanga\n",
      "Processing Record 85 | fortuna foothills\n",
      "Processing Record 86 | lethem\n",
      "Processing Record 87 | iwanai\n",
      "Processing Record 88 | vaini\n",
      "Processing Record 89 | uribia\n",
      "Processing Record 90 | vaitape\n",
      "Processing Record 91 | san patricio\n",
      "Processing Record 92 | isangel\n",
      "Processing Record 93 | farafangana\n",
      "Processing Record 94 | morondava\n",
      "Processing Record 95 | ribeira grande\n",
      "Processing Record 96 | cape town\n",
      "Processing Record 97 | mar del plata\n",
      "City not found. Skipping...\n",
      "Processing Record 98 | saint-philippe\n",
      "Processing Record 99 | thompson\n",
      "Processing Record 100 | volchikha\n",
      "Processing Record 101 | barrow\n",
      "Processing Record 102 | bursa\n",
      "Processing Record 103 | bredasdorp\n",
      "Processing Record 104 | castro\n",
      "Processing Record 105 | yongan\n",
      "Processing Record 106 | wattegama\n",
      "Processing Record 107 | starosubkhangulovo\n",
      "Processing Record 108 | kavieng\n",
      "Processing Record 109 | shimoda\n",
      "Processing Record 110 | chapadinha\n",
      "Processing Record 111 | carnarvon\n",
      "Processing Record 112 | beaverlodge\n",
      "Processing Record 113 | keflavik\n",
      "Processing Record 114 | nalut\n",
      "Processing Record 115 | westport\n",
      "Processing Record 116 | coralville\n",
      "Processing Record 117 | hilo\n",
      "Processing Record 118 | tuatapere\n",
      "Processing Record 119 | rapar\n",
      "Processing Record 120 | kaitangata\n",
      "Processing Record 121 | mantua\n",
      "City not found. Skipping...\n",
      "Processing Record 122 | bethel\n",
      "Processing Record 123 | pacific grove\n",
      "Processing Record 124 | rosetta\n",
      "Processing Record 125 | mporokoso\n",
      "Processing Record 126 | zhezkazgan\n",
      "Processing Record 127 | tuktoyaktuk\n",
      "Processing Record 128 | mandalgovi\n",
      "Processing Record 129 | mehamn\n",
      "Processing Record 130 | coquimbo\n",
      "Processing Record 131 | beringovskiy\n",
      "Processing Record 132 | yulara\n",
      "City not found. Skipping...\n",
      "Processing Record 133 | tiksi\n",
      "Processing Record 134 | joensuu\n",
      "City not found. Skipping...\n",
      "Processing Record 135 | kiomboi\n",
      "Processing Record 136 | pemba\n",
      "Processing Record 137 | champerico\n",
      "Processing Record 138 | nang rong\n",
      "Processing Record 139 | aswan\n",
      "Processing Record 140 | nerchinskiy zavod\n",
      "Processing Record 141 | chokurdakh\n",
      "Processing Record 142 | karratha\n",
      "City not found. Skipping...\n",
      "Processing Record 143 | lorengau\n",
      "Processing Record 144 | nizhnevartovsk\n",
      "Processing Record 145 | provideniya\n",
      "Processing Record 146 | lebu\n",
      "Processing Record 147 | otane\n",
      "Processing Record 148 | sarahan\n",
      "City not found. Skipping...\n",
      "Processing Record 149 | talara\n",
      "Processing Record 150 | mayo\n",
      "Processing Record 151 | kapaa\n",
      "Processing Record 152 | santa catarina\n",
      "Processing Record 153 | suihua\n",
      "Processing Record 154 | yellowknife\n",
      "Processing Record 155 | bluff\n",
      "City not found. Skipping...\n",
      "Processing Record 156 | nome\n",
      "Processing Record 157 | luang prabang\n",
      "Processing Record 158 | yarkovo\n",
      "Processing Record 159 | assiniboia\n",
      "City not found. Skipping...\n",
      "Processing Record 160 | vysokyy\n",
      "City not found. Skipping...\n",
      "Processing Record 161 | portland\n",
      "Processing Record 162 | lata\n",
      "Processing Record 163 | ostrovnoy\n",
      "City not found. Skipping...\n",
      "Processing Record 164 | turukhansk\n",
      "Processing Record 165 | tuy hoa\n",
      "Processing Record 166 | mukdahan\n",
      "Processing Record 167 | los llanos de aridane\n",
      "City not found. Skipping...\n",
      "Processing Record 168 | cabatuan\n",
      "Processing Record 169 | sumter\n",
      "Processing Record 170 | talnakh\n",
      "Processing Record 171 | znamenskoye\n",
      "Processing Record 172 | ketchikan\n",
      "Processing Record 173 | natal\n",
      "Processing Record 174 | chibuto\n",
      "Processing Record 175 | fare\n",
      "Processing Record 176 | neya\n",
      "Processing Record 177 | saint george\n",
      "Processing Record 178 | itaituba\n",
      "Processing Record 179 | esperance\n",
      "Processing Record 180 | ayan\n",
      "Processing Record 181 | nishihara\n",
      "City not found. Skipping...\n",
      "Processing Record 182 | tiznit\n",
      "Processing Record 183 | bubaque\n",
      "City not found. Skipping...\n",
      "Processing Record 184 | mollendo\n",
      "Processing Record 185 | chase\n",
      "Processing Record 186 | hambantota\n",
      "Processing Record 187 | yerbogachen\n",
      "Processing Record 188 | revda\n",
      "Processing Record 189 | kanniyakumari\n",
      "Processing Record 190 | sibu\n",
      "Processing Record 191 | agadir\n",
      "Processing Record 192 | pahrump\n",
      "Processing Record 193 | bara\n",
      "Processing Record 194 | arraial do cabo\n",
      "Processing Record 195 | salme\n",
      "Processing Record 196 | new norfolk\n",
      "Processing Record 197 | sitka\n",
      "Processing Record 198 | alta floresta\n",
      "Processing Record 199 | monrovia\n",
      "City not found. Skipping...\n",
      "Processing Record 200 | okhotsk\n",
      "Processing Record 201 | nisia floresta\n",
      "Processing Record 202 | la ronge\n",
      "Processing Record 203 | saint-pierre\n",
      "Processing Record 204 | cabo san lucas\n",
      "Processing Record 205 | boralday\n",
      "Processing Record 206 | dunedin\n",
      "Processing Record 207 | povenets\n",
      "Processing Record 208 | half moon bay\n",
      "Processing Record 209 | placido de castro\n",
      "City not found. Skipping...\n",
      "Processing Record 210 | iqaluit\n",
      "Processing Record 211 | biak\n",
      "Processing Record 212 | maiduguri\n",
      "Processing Record 213 | chuy\n",
      "Processing Record 214 | narsaq\n",
      "Processing Record 215 | general pico\n",
      "Processing Record 216 | conde\n",
      "Processing Record 217 | tomatlan\n",
      "Processing Record 218 | muros\n",
      "Processing Record 219 | trincomalee\n",
      "Processing Record 220 | itarema\n",
      "City not found. Skipping...\n",
      "City not found. Skipping...\n",
      "Processing Record 221 | redwater\n",
      "Processing Record 222 | sorland\n",
      "Processing Record 223 | inirida\n",
      "City not found. Skipping...\n",
      "Processing Record 224 | kodiak\n",
      "Processing Record 225 | khandbari\n",
      "Processing Record 226 | neyshabur\n",
      "City not found. Skipping...\n",
      "Processing Record 227 | ilulissat\n",
      "Processing Record 228 | oranjemund\n"
     ]
    },
    {
     "name": "stdout",
     "output_type": "stream",
     "text": [
      "Processing Record 229 | codrington\n",
      "Processing Record 230 | peniche\n",
      "Processing Record 231 | ilebo\n",
      "Processing Record 232 | fountain hills\n",
      "Processing Record 233 | katangli\n",
      "Processing Record 234 | coihaique\n",
      "Processing Record 235 | rorvik\n",
      "Processing Record 236 | san cristobal\n",
      "Processing Record 237 | dwarka\n",
      "Processing Record 238 | sobolevo\n",
      "Processing Record 239 | coos bay\n",
      "Processing Record 240 | comodoro rivadavia\n",
      "Processing Record 241 | ahipara\n",
      "Processing Record 242 | taranto\n",
      "Processing Record 243 | ostersund\n",
      "Processing Record 244 | komarovo\n",
      "City not found. Skipping...\n",
      "Processing Record 245 | najran\n",
      "Processing Record 246 | vanimo\n",
      "Processing Record 247 | bousse\n",
      "Processing Record 248 | olginskaya\n",
      "Processing Record 249 | port macquarie\n",
      "Processing Record 250 | lamar\n",
      "Processing Record 251 | sao filipe\n",
      "Processing Record 252 | yeppoon\n",
      "Processing Record 253 | yar-sale\n",
      "Processing Record 254 | pevek\n",
      "Processing Record 255 | riobamba\n",
      "City not found. Skipping...\n",
      "Processing Record 256 | manoel urbano\n",
      "Processing Record 257 | inongo\n",
      "Processing Record 258 | samagaltay\n",
      "Processing Record 259 | gabu\n",
      "Processing Record 260 | gorontalo\n",
      "Processing Record 261 | saskylakh\n",
      "Processing Record 262 | nemuro\n",
      "Processing Record 263 | geraldton\n",
      "Processing Record 264 | abha\n",
      "Processing Record 265 | ponta delgada\n",
      "Processing Record 266 | kyren\n",
      "Processing Record 267 | byron bay\n",
      "Processing Record 268 | aldan\n",
      "City not found. Skipping...\n",
      "Processing Record 269 | tomball\n",
      "Processing Record 270 | enumclaw\n",
      "Processing Record 271 | tazovskiy\n",
      "Processing Record 272 | tevaitoa\n",
      "Processing Record 273 | bilma\n",
      "Processing Record 274 | upernavik\n",
      "Processing Record 275 | bezdead\n",
      "Processing Record 276 | salina\n",
      "Processing Record 277 | paamiut\n",
      "Processing Record 278 | krutinka\n",
      "Processing Record 279 | jalu\n",
      "Processing Record 280 | lavrentiya\n",
      "Processing Record 281 | havelock\n",
      "Processing Record 282 | woodland\n",
      "Processing Record 283 | lexington\n",
      "Processing Record 284 | agirish\n",
      "Processing Record 285 | pimentel\n",
      "Processing Record 286 | lasa\n",
      "City not found. Skipping...\n",
      "Processing Record 287 | constitucion\n",
      "Processing Record 288 | sooke\n",
      "City not found. Skipping...\n",
      "Processing Record 289 | hami\n",
      "Processing Record 290 | jishou\n",
      "Processing Record 291 | minsk\n",
      "Processing Record 292 | kambove\n",
      "Processing Record 293 | meulaboh\n",
      "Processing Record 294 | diamantino\n",
      "Processing Record 295 | berlevag\n",
      "Processing Record 296 | wuwei\n",
      "Processing Record 297 | price\n",
      "Processing Record 298 | vozhega\n",
      "City not found. Skipping...\n",
      "Processing Record 299 | esqueda\n",
      "City not found. Skipping...\n",
      "Processing Record 300 | hokitika\n",
      "Processing Record 301 | yamada\n",
      "City not found. Skipping...\n",
      "Processing Record 302 | pontianak\n",
      "Processing Record 303 | hirara\n",
      "Processing Record 304 | huescar\n",
      "City not found. Skipping...\n",
      "Processing Record 305 | pisco\n",
      "Processing Record 306 | fukue\n",
      "Processing Record 307 | hyeres\n",
      "Processing Record 308 | sisimiut\n",
      "Processing Record 309 | astoria\n",
      "Processing Record 310 | kyabe\n",
      "Processing Record 311 | kibala\n",
      "City not found. Skipping...\n",
      "City not found. Skipping...\n",
      "Processing Record 312 | kargil\n",
      "Processing Record 313 | arman\n",
      "Processing Record 314 | cidreira\n",
      "Processing Record 315 | powell river\n",
      "Processing Record 316 | plettenberg bay\n",
      "Processing Record 317 | gobabis\n",
      "Processing Record 318 | sochaczew\n",
      "Processing Record 319 | aykhal\n",
      "Processing Record 320 | wanlaweyn\n",
      "Processing Record 321 | skibbereen\n",
      "Processing Record 322 | college\n",
      "Processing Record 323 | oyama\n",
      "Processing Record 324 | arlit\n",
      "Processing Record 325 | shingu\n",
      "Processing Record 326 | baryshivka\n",
      "Processing Record 327 | hovd\n",
      "Processing Record 328 | west wendover\n",
      "Processing Record 329 | aguada de cima\n",
      "Processing Record 330 | shorewood\n",
      "City not found. Skipping...\n",
      "City not found. Skipping...\n",
      "City not found. Skipping...\n",
      "Processing Record 331 | bosaso\n",
      "Processing Record 332 | saint-paul\n",
      "Processing Record 333 | waiouru\n",
      "Processing Record 334 | kiunga\n",
      "Processing Record 335 | pleasanton\n",
      "Processing Record 336 | turiacu\n",
      "Processing Record 337 | deputatskiy\n",
      "Processing Record 338 | aklavik\n",
      "City not found. Skipping...\n",
      "Processing Record 339 | rio grande\n",
      "Processing Record 340 | ponta do sol\n",
      "Processing Record 341 | bom jesus\n",
      "Processing Record 342 | lewiston\n",
      "Processing Record 343 | muroran\n",
      "Processing Record 344 | mtwara\n",
      "Processing Record 345 | fredericton\n",
      "Processing Record 346 | hay river\n",
      "City not found. Skipping...\n",
      "Processing Record 347 | acajutla\n",
      "Processing Record 348 | abu samrah\n",
      "Processing Record 349 | sao jose da coroa grande\n",
      "Processing Record 350 | terrace\n",
      "Processing Record 351 | benguela\n",
      "City not found. Skipping...\n",
      "Processing Record 352 | makakilo city\n",
      "Processing Record 353 | moron\n",
      "City not found. Skipping...\n",
      "Processing Record 354 | rusape\n",
      "Processing Record 355 | touros\n",
      "City not found. Skipping...\n",
      "Processing Record 356 | san luis\n",
      "Processing Record 357 | honiara\n",
      "Processing Record 358 | coxim\n",
      "Processing Record 359 | saint-joseph\n",
      "Processing Record 360 | chajul\n",
      "Processing Record 361 | cabedelo\n",
      "Processing Record 362 | jiayuguan\n",
      "Processing Record 363 | clyde river\n",
      "Processing Record 364 | sao felix do xingu\n",
      "Processing Record 365 | sinnamary\n",
      "Processing Record 366 | grenada\n",
      "Processing Record 367 | baiyin\n",
      "Processing Record 368 | warri\n",
      "Processing Record 369 | vestmanna\n",
      "Processing Record 370 | catanduva\n",
      "City not found. Skipping...\n",
      "Processing Record 371 | yichun\n",
      "Processing Record 372 | monterey\n",
      "Processing Record 373 | cherskiy\n",
      "Processing Record 374 | tadine\n",
      "Processing Record 375 | yibin\n",
      "Processing Record 376 | entre rios\n",
      "Processing Record 377 | bang saphan\n",
      "Processing Record 378 | kununurra\n",
      "Processing Record 379 | wahpeton\n",
      "Processing Record 380 | tete\n",
      "Processing Record 381 | bintulu\n",
      "Processing Record 382 | qaqortoq\n",
      "Processing Record 383 | belmonte\n",
      "Processing Record 384 | kuching\n",
      "Processing Record 385 | buraydah\n",
      "Processing Record 386 | moen\n",
      "Processing Record 387 | aleksandrovsk-sakhalinskiy\n",
      "City not found. Skipping...\n",
      "Processing Record 388 | necochea\n",
      "Processing Record 389 | severo-kurilsk\n",
      "City not found. Skipping...\n",
      "Processing Record 390 | vila franca do campo\n",
      "Processing Record 391 | bandarbeyla\n",
      "Processing Record 392 | whitehorse\n",
      "Processing Record 393 | marsh harbour\n",
      "Processing Record 394 | porto nacional\n",
      "Processing Record 395 | menongue\n",
      "Processing Record 396 | chishan\n",
      "Processing Record 397 | bulgan\n",
      "Processing Record 398 | marystown\n",
      "Processing Record 399 | koumac\n",
      "Processing Record 400 | bell ville\n",
      "Processing Record 401 | palencia\n",
      "Processing Record 402 | svetlogorsk\n",
      "Processing Record 403 | cesis\n",
      "Processing Record 404 | magadi\n",
      "Processing Record 405 | vilhena\n",
      "Processing Record 406 | khao yoi\n",
      "Processing Record 407 | meshchovsk\n",
      "Processing Record 408 | baghdad\n",
      "Processing Record 409 | charters towers\n",
      "Processing Record 410 | fort nelson\n",
      "Processing Record 411 | huesca\n",
      "Processing Record 412 | weligama\n",
      "Processing Record 413 | amuntai\n",
      "Processing Record 414 | honningsvag\n",
      "Processing Record 415 | tunkas\n",
      "Processing Record 416 | bonfim\n",
      "Processing Record 417 | villa bruzual\n",
      "Processing Record 418 | flinders\n",
      "Processing Record 419 | marsa matruh\n",
      "Processing Record 420 | iskateley\n",
      "Processing Record 421 | victoria\n",
      "Processing Record 422 | mount gambier\n",
      "Processing Record 423 | nacala\n",
      "Processing Record 424 | kutum\n",
      "Processing Record 425 | watsa\n",
      "Processing Record 426 | katherine\n",
      "City not found. Skipping...\n",
      "Processing Record 427 | taoudenni\n",
      "Processing Record 428 | acapulco\n",
      "Processing Record 429 | ixtapa\n",
      "Processing Record 430 | rundu\n",
      "Processing Record 431 | chapais\n",
      "Processing Record 432 | kharp\n",
      "Processing Record 433 | petropavlovsk-kamchatskiy\n",
      "Processing Record 434 | zheleznodorozhnyy\n",
      "Processing Record 435 | talcahuano\n",
      "Processing Record 436 | norden\n",
      "Processing Record 437 | port keats\n",
      "City not found. Skipping...\n",
      "Processing Record 438 | xining\n",
      "Processing Record 439 | souillac\n",
      "Processing Record 440 | merauke\n",
      "Processing Record 441 | bassar\n",
      "Processing Record 442 | mount isa\n",
      "Processing Record 443 | juneau\n",
      "Processing Record 444 | kosa\n",
      "Processing Record 445 | flin flon\n",
      "City not found. Skipping...\n",
      "Processing Record 446 | alice springs\n",
      "Processing Record 447 | kaeo\n",
      "Processing Record 448 | makasar\n",
      "Processing Record 449 | ninh binh\n",
      "Processing Record 450 | fortuna\n",
      "Processing Record 451 | altus\n",
      "Processing Record 452 | aksarka\n",
      "Processing Record 453 | camopi\n",
      "Processing Record 454 | tateyama\n"
     ]
    },
    {
     "name": "stdout",
     "output_type": "stream",
     "text": [
      "City not found. Skipping...\n",
      "Processing Record 455 | bambous virieux\n",
      "City not found. Skipping...\n",
      "Processing Record 456 | puerto del rosario\n",
      "Processing Record 457 | marihatag\n",
      "Processing Record 458 | nioro\n",
      "Processing Record 459 | preeceville\n",
      "Processing Record 460 | luderitz\n",
      "Processing Record 461 | holetown\n",
      "Processing Record 462 | louga\n",
      "Processing Record 463 | ust-tsilma\n",
      "City not found. Skipping...\n",
      "City not found. Skipping...\n",
      "Processing Record 464 | labuan\n",
      "Processing Record 465 | kharagauli\n",
      "Processing Record 466 | amalapuram\n",
      "Processing Record 467 | chengde\n",
      "City not found. Skipping...\n",
      "Processing Record 468 | hakui\n",
      "Processing Record 469 | te anau\n",
      "Processing Record 470 | garissa\n",
      "Processing Record 471 | nidzica\n",
      "Processing Record 472 | saint-augustin\n",
      "Processing Record 473 | kasiri\n",
      "Processing Record 474 | noumea\n",
      "Processing Record 475 | pacifica\n",
      "Processing Record 476 | vanavara\n",
      "Processing Record 477 | chara\n",
      "Processing Record 478 | humaita\n",
      "Processing Record 479 | ojinaga\n",
      "Processing Record 480 | bajah\n",
      "Processing Record 481 | hibbing\n",
      "Processing Record 482 | suining\n",
      "Processing Record 483 | luba\n",
      "Processing Record 484 | north bend\n",
      "Processing Record 485 | rincon\n",
      "Processing Record 486 | taltal\n",
      "Processing Record 487 | seoul\n",
      "Processing Record 488 | buin\n",
      "Processing Record 489 | panzhihua\n",
      "City not found. Skipping...\n",
      "City not found. Skipping...\n",
      "Processing Record 490 | mopti\n",
      "Processing Record 491 | ornskoldsvik\n",
      "Processing Record 492 | dryden\n",
      "Processing Record 493 | grand gaube\n",
      "City not found. Skipping...\n",
      "Processing Record 494 | cuenca\n",
      "Processing Record 495 | ati\n",
      "Processing Record 496 | opuwo\n",
      "Processing Record 497 | puerto cabezas\n",
      "Processing Record 498 | galveston\n",
      "Processing Record 499 | mandera\n",
      "Processing Record 500 | tumarbong\n",
      "City not found. Skipping...\n",
      "Processing Record 501 | saint anthony\n",
      "Processing Record 502 | urucara\n",
      "Processing Record 503 | henties bay\n",
      "Processing Record 504 | saint-georges\n",
      "Processing Record 505 | takoradi\n",
      "Processing Record 506 | sapa\n",
      "Processing Record 507 | kachug\n",
      "Processing Record 508 | itzehoe\n",
      "Processing Record 509 | marabba\n",
      "City not found. Skipping...\n",
      "City not found. Skipping...\n",
      "Processing Record 510 | buala\n",
      "Processing Record 511 | shache\n",
      "Processing Record 512 | grindavik\n",
      "Processing Record 513 | san ignacio\n",
      "Processing Record 514 | pangnirtung\n",
      "Processing Record 515 | nuuk\n",
      "Processing Record 516 | vigrestad\n",
      "Processing Record 517 | walvis bay\n",
      "Processing Record 518 | naifaru\n",
      "Processing Record 519 | tsiroanomandidy\n",
      "Processing Record 520 | canyon\n",
      "Processing Record 521 | sao sebastiao\n",
      "Processing Record 522 | savannakhet\n",
      "Processing Record 523 | bambanglipuro\n",
      "Processing Record 524 | port hardy\n",
      "Processing Record 525 | kysyl-syr\n",
      "Processing Record 526 | nouadhibou\n",
      "Processing Record 527 | muzaffargarh\n",
      "City not found. Skipping...\n",
      "Processing Record 528 | kahului\n",
      "Processing Record 529 | melfort\n",
      "Processing Record 530 | lompoc\n",
      "Processing Record 531 | buchanan\n",
      "City not found. Skipping...\n",
      "Processing Record 532 | lae\n",
      "Processing Record 533 | sola\n",
      "Processing Record 534 | korcula\n",
      "Processing Record 535 | klyuchi\n",
      "City not found. Skipping...\n",
      "City not found. Skipping...\n",
      "Processing Record 536 | chicla\n",
      "Processing Record 537 | amga\n",
      "Processing Record 538 | lakes entrance\n",
      "Processing Record 539 | praia da vitoria\n",
      "Processing Record 540 | kirakira\n",
      "City not found. Skipping...\n",
      "Processing Record 541 | pontes e lacerda\n",
      "Processing Record 542 | palmer\n",
      "City not found. Skipping...\n",
      "Processing Record 543 | murgab\n",
      "City not found. Skipping...\n",
      "Processing Record 544 | pundaguitan\n",
      "Processing Record 545 | kudahuvadhoo\n",
      "Processing Record 546 | ormara\n",
      "Processing Record 547 | chernyshevskiy\n",
      "Processing Record 548 | vitre\n",
      "Processing Record 549 | laurel\n",
      "Processing Record 550 | faanui\n",
      "Processing Record 551 | portree\n",
      "Processing Record 552 | tamandare\n",
      "Processing Record 553 | belen\n",
      "City not found. Skipping...\n",
      "City not found. Skipping...\n",
      "Processing Record 554 | nur\n",
      "Processing Record 555 | ouesso\n",
      "Processing Record 556 | asnaes\n",
      "Processing Record 557 | armenia\n",
      "Processing Record 558 | tessalit\n",
      "Processing Record 559 | bulembu\n",
      "City not found. Skipping...\n",
      "Processing Record 560 | batemans bay\n",
      "Processing Record 561 | agadez\n",
      "City not found. Skipping...\n",
      "Processing Record 562 | meadow lake\n",
      "Processing Record 563 | ballina\n",
      "Processing Record 564 | cortez\n",
      "Processing Record 565 | mahibadhoo\n",
      "Processing Record 566 | sabang\n",
      "Processing Record 567 | garowe\n",
      "City not found. Skipping...\n"
     ]
    }
   ],
   "source": [
    "#Ins_OpenWeatherDataFrame\n",
    "#set up lists to hold reponse info\n",
    "city_lon = []\n",
    "city_lat =[]\n",
    "city_temp = []\n",
    "city_clouds = []\n",
    "city_humid = []\n",
    "city_windy = []\n",
    "city_name = []\n",
    "\n",
    "#counter used for record\n",
    "counter = 1\n",
    "\n",
    "# Loop through the list of cities and perform a request for data on each\n",
    "for city in cities:\n",
    "    try:\n",
    "    # Build partial query URL\n",
    "        query_url = url + \"appid=\" + api_key + \"&q=\" + city + \"&units=imperial\"\n",
    "        response = requests.get(query_url).json()\n",
    "        city_lon.append(response['coord']['lon'])\n",
    "        city_lat.append(response['coord']['lat'])\n",
    "        city_temp.append(response['main']['temp'])\n",
    "        city_clouds.append(response['clouds']['all'])\n",
    "        city_humid.append(response['main']['humidity'])\n",
    "        city_windy.append(response['wind']['speed'])\n",
    "        city_name.append(response['name'])\n",
    "        print(f\"Processing Record {counter} | {city}\")\n",
    "        counter = counter + 1\n",
    "        \n",
    "        #pause python execution for one second\n",
    "        time.sleep(1)\n",
    "        \n",
    "    #exception block will occur if there missing data in lists\n",
    "    except:\n",
    "        print(\"City not found. Skipping...\")\n",
    "\n",
    "         "
   ]
  },
  {
   "cell_type": "code",
   "execution_count": 5,
   "metadata": {},
   "outputs": [
    {
     "name": "stdout",
     "output_type": "stream",
     "text": [
      "Processing Record 568 | qui nhon\n"
     ]
    }
   ],
   "source": [
    "print(f\"Processing Record {counter} | {city}\")"
   ]
  },
  {
   "cell_type": "code",
   "execution_count": 31,
   "metadata": {},
   "outputs": [
    {
     "data": {
      "text/plain": [
       "dict_keys(['cod', 'message'])"
      ]
     },
     "execution_count": 31,
     "metadata": {},
     "output_type": "execute_result"
    }
   ],
   "source": [
    "# display keys\n",
    "response.keys()"
   ]
  },
  {
   "cell_type": "code",
   "execution_count": 30,
   "metadata": {},
   "outputs": [
    {
     "data": {
      "text/plain": [
       "{'cod': '404', 'message': 'city not found'}"
      ]
     },
     "execution_count": 30,
     "metadata": {},
     "output_type": "execute_result"
    }
   ],
   "source": [
    "response"
   ]
  },
  {
   "cell_type": "code",
   "execution_count": 7,
   "metadata": {},
   "outputs": [
    {
     "data": {
      "text/plain": [
       "567"
      ]
     },
     "execution_count": 7,
     "metadata": {},
     "output_type": "execute_result"
    }
   ],
   "source": [
    "len(city_lon)"
   ]
  },
  {
   "cell_type": "code",
   "execution_count": 8,
   "metadata": {},
   "outputs": [
    {
     "data": {
      "text/plain": [
       "567"
      ]
     },
     "execution_count": 8,
     "metadata": {},
     "output_type": "execute_result"
    }
   ],
   "source": [
    "len(city_lat)"
   ]
  },
  {
   "cell_type": "code",
   "execution_count": 9,
   "metadata": {},
   "outputs": [
    {
     "data": {
      "text/plain": [
       "567"
      ]
     },
     "execution_count": 9,
     "metadata": {},
     "output_type": "execute_result"
    }
   ],
   "source": [
    "len(city_temp)"
   ]
  },
  {
   "cell_type": "code",
   "execution_count": 10,
   "metadata": {},
   "outputs": [
    {
     "data": {
      "text/plain": [
       "567"
      ]
     },
     "execution_count": 10,
     "metadata": {},
     "output_type": "execute_result"
    }
   ],
   "source": [
    "len(city_humid)"
   ]
  },
  {
   "cell_type": "code",
   "execution_count": 11,
   "metadata": {},
   "outputs": [
    {
     "data": {
      "text/plain": [
       "567"
      ]
     },
     "execution_count": 11,
     "metadata": {},
     "output_type": "execute_result"
    }
   ],
   "source": [
    "len(city_clouds)"
   ]
  },
  {
   "cell_type": "code",
   "execution_count": 12,
   "metadata": {},
   "outputs": [
    {
     "data": {
      "text/plain": [
       "567"
      ]
     },
     "execution_count": 12,
     "metadata": {},
     "output_type": "execute_result"
    }
   ],
   "source": [
    "len(city_windy)"
   ]
  },
  {
   "cell_type": "code",
   "execution_count": 13,
   "metadata": {},
   "outputs": [
    {
     "data": {
      "text/plain": [
       "567"
      ]
     },
     "execution_count": 13,
     "metadata": {},
     "output_type": "execute_result"
    }
   ],
   "source": [
    "len(city_name)"
   ]
  },
  {
   "cell_type": "code",
   "execution_count": 16,
   "metadata": {},
   "outputs": [
    {
     "ename": "NameError",
     "evalue": "name 'temp' is not defined",
     "output_type": "error",
     "traceback": [
      "\u001b[1;31m---------------------------------------------------------------------------\u001b[0m",
      "\u001b[1;31mNameError\u001b[0m                                 Traceback (most recent call last)",
      "\u001b[1;32m<ipython-input-16-0cc590dcb5bf>\u001b[0m in \u001b[0;36m<module>\u001b[1;34m\u001b[0m\n\u001b[1;32m----> 1\u001b[1;33m \u001b[0mprint\u001b[0m\u001b[1;33m(\u001b[0m\u001b[1;34mf\"The temperature is: {temp}\"\u001b[0m\u001b[1;33m)\u001b[0m\u001b[1;33m\u001b[0m\u001b[1;33m\u001b[0m\u001b[0m\n\u001b[0m",
      "\u001b[1;31mNameError\u001b[0m: name 'temp' is not defined"
     ]
    }
   ],
   "source": [
    "print(f\"The temperature is: {temp}\")"
   ]
  },
  {
   "cell_type": "markdown",
   "metadata": {},
   "source": [
    "### Convert Raw Data to DataFrame\n",
    "* Export the city data into a .csv.\n",
    "* Display the DataFrame"
   ]
  },
  {
   "cell_type": "code",
   "execution_count": 27,
   "metadata": {},
   "outputs": [
    {
     "data": {
      "text/html": [
       "<div>\n",
       "<style scoped>\n",
       "    .dataframe tbody tr th:only-of-type {\n",
       "        vertical-align: middle;\n",
       "    }\n",
       "\n",
       "    .dataframe tbody tr th {\n",
       "        vertical-align: top;\n",
       "    }\n",
       "\n",
       "    .dataframe thead th {\n",
       "        text-align: right;\n",
       "    }\n",
       "</style>\n",
       "<table border=\"1\" class=\"dataframe\">\n",
       "  <thead>\n",
       "    <tr style=\"text-align: right;\">\n",
       "      <th></th>\n",
       "      <th>name</th>\n",
       "      <th>lat</th>\n",
       "      <th>lon</th>\n",
       "      <th>temp</th>\n",
       "      <th>clouds</th>\n",
       "      <th>humidity</th>\n",
       "      <th>windy</th>\n",
       "    </tr>\n",
       "  </thead>\n",
       "  <tbody>\n",
       "    <tr>\n",
       "      <td>0</td>\n",
       "      <td>Albany</td>\n",
       "      <td>42.65</td>\n",
       "      <td>-73.75</td>\n",
       "      <td>26.58</td>\n",
       "      <td>75</td>\n",
       "      <td>63</td>\n",
       "      <td>3.36</td>\n",
       "    </tr>\n",
       "    <tr>\n",
       "      <td>1</td>\n",
       "      <td>Matsusaka</td>\n",
       "      <td>34.59</td>\n",
       "      <td>136.54</td>\n",
       "      <td>51.21</td>\n",
       "      <td>75</td>\n",
       "      <td>66</td>\n",
       "      <td>8.05</td>\n",
       "    </tr>\n",
       "    <tr>\n",
       "      <td>2</td>\n",
       "      <td>Cayenne</td>\n",
       "      <td>4.94</td>\n",
       "      <td>-52.33</td>\n",
       "      <td>78.80</td>\n",
       "      <td>75</td>\n",
       "      <td>94</td>\n",
       "      <td>2.24</td>\n",
       "    </tr>\n",
       "    <tr>\n",
       "      <td>3</td>\n",
       "      <td>Yangjiang</td>\n",
       "      <td>21.85</td>\n",
       "      <td>111.96</td>\n",
       "      <td>73.00</td>\n",
       "      <td>0</td>\n",
       "      <td>63</td>\n",
       "      <td>6.87</td>\n",
       "    </tr>\n",
       "    <tr>\n",
       "      <td>4</td>\n",
       "      <td>Busselton</td>\n",
       "      <td>-33.64</td>\n",
       "      <td>115.35</td>\n",
       "      <td>89.56</td>\n",
       "      <td>0</td>\n",
       "      <td>33</td>\n",
       "      <td>12.15</td>\n",
       "    </tr>\n",
       "  </tbody>\n",
       "</table>\n",
       "</div>"
      ],
      "text/plain": [
       "        name    lat     lon   temp  clouds  humidity  windy\n",
       "0     Albany  42.65  -73.75  26.58      75        63   3.36\n",
       "1  Matsusaka  34.59  136.54  51.21      75        66   8.05\n",
       "2    Cayenne   4.94  -52.33  78.80      75        94   2.24\n",
       "3  Yangjiang  21.85  111.96  73.00       0        63   6.87\n",
       "4  Busselton -33.64  115.35  89.56       0        33  12.15"
      ]
     },
     "execution_count": 27,
     "metadata": {},
     "output_type": "execute_result"
    }
   ],
   "source": [
    "# create a data frame\n",
    "weather_dict = {\n",
    "    \"name\": city_name,\n",
    "    \"lat\": city_lat,\n",
    "    \"lon\": city_lon,   \n",
    "    \"temp\": city_temp,\n",
    "    \"clouds\": city_clouds,\n",
    "    \"humidity\": city_humid, \n",
    "    \"windy\": city_windy\n",
    "}\n",
    "weather_data = pd.DataFrame(weather_dict)\n",
    "weather_data.head()"
   ]
  },
  {
   "cell_type": "code",
   "execution_count": 44,
   "metadata": {},
   "outputs": [
    {
     "data": {
      "text/plain": [
       "name        567\n",
       "lat         567\n",
       "lon         567\n",
       "temp        567\n",
       "clouds      567\n",
       "humidity    567\n",
       "windy       567\n",
       "dtype: int64"
      ]
     },
     "execution_count": 44,
     "metadata": {},
     "output_type": "execute_result"
    }
   ],
   "source": [
    "# Identify incomplete rows\n",
    "weather_data.count()"
   ]
  },
  {
   "cell_type": "code",
   "execution_count": 29,
   "metadata": {},
   "outputs": [
    {
     "data": {
      "text/plain": [
       "<bound method NDFrame.to_csv of            name    lat     lon   temp  clouds  humidity  windy\n",
       "0        Albany  42.65  -73.75  26.58      75        63   3.36\n",
       "1     Matsusaka  34.59  136.54  51.21      75        66   8.05\n",
       "2       Cayenne   4.94  -52.33  78.80      75        94   2.24\n",
       "3     Yangjiang  21.85  111.96  73.00       0        63   6.87\n",
       "4     Busselton -33.64  115.35  89.56       0        33  12.15\n",
       "..          ...    ...     ...    ...     ...       ...    ...\n",
       "562     Ballina  54.11   -9.15  43.74     100        84  17.00\n",
       "563      Cortez  37.35 -108.58  24.96      90        92   5.82\n",
       "564  Mahibadhoo   3.78   72.97  83.17       0        76  12.17\n",
       "565      Sabang  13.80  121.11  82.00     100        87   5.01\n",
       "566      Garowe   8.41   48.48  67.19       1        76   4.97\n",
       "\n",
       "[567 rows x 7 columns]>"
      ]
     },
     "execution_count": 29,
     "metadata": {},
     "output_type": "execute_result"
    }
   ],
   "source": [
    "#save to csv\n",
    "weather_data.to_csv"
   ]
  },
  {
   "cell_type": "markdown",
   "metadata": {},
   "source": [
    "### Plotting the Data\n",
    "* Use proper labeling of the plots using plot titles (including date of analysis) and axes labels.\n",
    "* Save the plotted figures as .pngs."
   ]
  },
  {
   "cell_type": "markdown",
   "metadata": {},
   "source": [
    "#### Latitude vs. Temperature Plot"
   ]
  },
  {
   "cell_type": "code",
   "execution_count": 36,
   "metadata": {},
   "outputs": [
    {
     "data": {
      "image/png": "[encoded data removed]",
      "text/plain": [
       "<Figure size 432x288 with 1 Axes>"
      ]
     },
     "metadata": {
      "needs_background": "light"
     },
     "output_type": "display_data"
    }
   ],
   "source": [
    "# Build a scatter plot for each data type\n",
    "plt.scatter(weather_data[\"lat\"], weather_data[\"temp\"], marker=\"o\")\n",
    "\n",
    "# Incorporate the other graph properties\n",
    "plt.title(\"City Latitude vs Temperature\")\n",
    "plt.ylabel(\"Temperature (Farenheit)\")\n",
    "plt.xlabel(\"Latitude\")\n",
    "plt.grid(True)\n",
    "\n",
    "# Save the figure\n",
    "plt.savefig(\"TemperatureInWorldCities.png\")\n",
    "\n",
    "# Show plot\n",
    "plt.show()"
   ]
  },
  {
   "cell_type": "markdown",
   "metadata": {},
   "source": [
    "#### Latitude vs. Humidity Plot"
   ]
  },
  {
   "cell_type": "code",
   "execution_count": 37,
   "metadata": {},
   "outputs": [
    {
     "data": {
      "image/png": "[encoded data removed]",
      "text/plain": [
       "<Figure size 432x288 with 1 Axes>"
      ]
     },
     "metadata": {
      "needs_background": "light"
     },
     "output_type": "display_data"
    }
   ],
   "source": [
    "# Build a scatter plot for each data type\n",
    "plt.scatter(weather_data[\"lat\"], weather_data[\"humidity\"], marker=\"o\")\n",
    "\n",
    "# Incorporate the other graph properties\n",
    "plt.title(\"City Latitude vs Humidity\")\n",
    "plt.ylabel(\"Humidity %\")\n",
    "plt.xlabel(\"Latitude\")\n",
    "plt.grid(True)\n",
    "\n",
    "# Save the figure\n",
    "plt.savefig(\"HumidityInWorldCities.png\")\n",
    "\n",
    "# Show plot\n",
    "plt.show()"
   ]
  },
  {
   "cell_type": "markdown",
   "metadata": {},
   "source": [
    "#### Latitude vs. Cloudiness Plot"
   ]
  },
  {
   "cell_type": "code",
   "execution_count": 38,
   "metadata": {},
   "outputs": [
    {
     "ename": "KeyError",
     "evalue": "'cloudy'",
     "output_type": "error",
     "traceback": [
      "\u001b[1;31m---------------------------------------------------------------------------\u001b[0m",
      "\u001b[1;31mKeyError\u001b[0m                                  Traceback (most recent call last)",
      "\u001b[1;32m~\\Anaconda3\\lib\\site-packages\\pandas\\core\\indexes\\base.py\u001b[0m in \u001b[0;36mget_loc\u001b[1;34m(self, key, method, tolerance)\u001b[0m\n\u001b[0;32m   2896\u001b[0m             \u001b[1;32mtry\u001b[0m\u001b[1;33m:\u001b[0m\u001b[1;33m\u001b[0m\u001b[1;33m\u001b[0m\u001b[0m\n\u001b[1;32m-> 2897\u001b[1;33m                 \u001b[1;32mreturn\u001b[0m \u001b[0mself\u001b[0m\u001b[1;33m.\u001b[0m\u001b[0m_engine\u001b[0m\u001b[1;33m.\u001b[0m\u001b[0mget_loc\u001b[0m\u001b[1;33m(\u001b[0m\u001b[0mkey\u001b[0m\u001b[1;33m)\u001b[0m\u001b[1;33m\u001b[0m\u001b[1;33m\u001b[0m\u001b[0m\n\u001b[0m\u001b[0;32m   2898\u001b[0m             \u001b[1;32mexcept\u001b[0m \u001b[0mKeyError\u001b[0m\u001b[1;33m:\u001b[0m\u001b[1;33m\u001b[0m\u001b[1;33m\u001b[0m\u001b[0m\n",
      "\u001b[1;32mpandas\\_libs\\index.pyx\u001b[0m in \u001b[0;36mpandas._libs.index.IndexEngine.get_loc\u001b[1;34m()\u001b[0m\n",
      "\u001b[1;32mpandas\\_libs\\index.pyx\u001b[0m in \u001b[0;36mpandas._libs.index.IndexEngine.get_loc\u001b[1;34m()\u001b[0m\n",
      "\u001b[1;32mpandas\\_libs\\hashtable_class_helper.pxi\u001b[0m in \u001b[0;36mpandas._libs.hashtable.PyObjectHashTable.get_item\u001b[1;34m()\u001b[0m\n",
      "\u001b[1;32mpandas\\_libs\\hashtable_class_helper.pxi\u001b[0m in \u001b[0;36mpandas._libs.hashtable.PyObjectHashTable.get_item\u001b[1;34m()\u001b[0m\n",
      "\u001b[1;31mKeyError\u001b[0m: 'cloudy'",
      "\nDuring handling of the above exception, another exception occurred:\n",
      "\u001b[1;31mKeyError\u001b[0m                                  Traceback (most recent call last)",
      "\u001b[1;32m<ipython-input-38-55281d459d6e>\u001b[0m in \u001b[0;36m<module>\u001b[1;34m\u001b[0m\n\u001b[0;32m      1\u001b[0m \u001b[1;31m# Build a scatter plot for each data type\u001b[0m\u001b[1;33m\u001b[0m\u001b[1;33m\u001b[0m\u001b[1;33m\u001b[0m\u001b[0m\n\u001b[1;32m----> 2\u001b[1;33m \u001b[0mplt\u001b[0m\u001b[1;33m.\u001b[0m\u001b[0mscatter\u001b[0m\u001b[1;33m(\u001b[0m\u001b[0mweather_data\u001b[0m\u001b[1;33m[\u001b[0m\u001b[1;34m\"lat\"\u001b[0m\u001b[1;33m]\u001b[0m\u001b[1;33m,\u001b[0m \u001b[0mweather_data\u001b[0m\u001b[1;33m[\u001b[0m\u001b[1;34m\"cloudy\"\u001b[0m\u001b[1;33m]\u001b[0m\u001b[1;33m,\u001b[0m \u001b[0mmarker\u001b[0m\u001b[1;33m=\u001b[0m\u001b[1;34m\"o\"\u001b[0m\u001b[1;33m)\u001b[0m\u001b[1;33m\u001b[0m\u001b[1;33m\u001b[0m\u001b[0m\n\u001b[0m\u001b[0;32m      3\u001b[0m \u001b[1;33m\u001b[0m\u001b[0m\n\u001b[0;32m      4\u001b[0m \u001b[1;31m# Incorporate the other graph properties\u001b[0m\u001b[1;33m\u001b[0m\u001b[1;33m\u001b[0m\u001b[1;33m\u001b[0m\u001b[0m\n\u001b[0;32m      5\u001b[0m \u001b[0mplt\u001b[0m\u001b[1;33m.\u001b[0m\u001b[0mtitle\u001b[0m\u001b[1;33m(\u001b[0m\u001b[1;34m\"City Latitude vs Cloudiness\"\u001b[0m\u001b[1;33m)\u001b[0m\u001b[1;33m\u001b[0m\u001b[1;33m\u001b[0m\u001b[0m\n",
      "\u001b[1;32m~\\Anaconda3\\lib\\site-packages\\pandas\\core\\frame.py\u001b[0m in \u001b[0;36m__getitem__\u001b[1;34m(self, key)\u001b[0m\n\u001b[0;32m   2978\u001b[0m             \u001b[1;32mif\u001b[0m \u001b[0mself\u001b[0m\u001b[1;33m.\u001b[0m\u001b[0mcolumns\u001b[0m\u001b[1;33m.\u001b[0m\u001b[0mnlevels\u001b[0m \u001b[1;33m>\u001b[0m \u001b[1;36m1\u001b[0m\u001b[1;33m:\u001b[0m\u001b[1;33m\u001b[0m\u001b[1;33m\u001b[0m\u001b[0m\n\u001b[0;32m   2979\u001b[0m                 \u001b[1;32mreturn\u001b[0m \u001b[0mself\u001b[0m\u001b[1;33m.\u001b[0m\u001b[0m_getitem_multilevel\u001b[0m\u001b[1;33m(\u001b[0m\u001b[0mkey\u001b[0m\u001b[1;33m)\u001b[0m\u001b[1;33m\u001b[0m\u001b[1;33m\u001b[0m\u001b[0m\n\u001b[1;32m-> 2980\u001b[1;33m             \u001b[0mindexer\u001b[0m \u001b[1;33m=\u001b[0m \u001b[0mself\u001b[0m\u001b[1;33m.\u001b[0m\u001b[0mcolumns\u001b[0m\u001b[1;33m.\u001b[0m\u001b[0mget_loc\u001b[0m\u001b[1;33m(\u001b[0m\u001b[0mkey\u001b[0m\u001b[1;33m)\u001b[0m\u001b[1;33m\u001b[0m\u001b[1;33m\u001b[0m\u001b[0m\n\u001b[0m\u001b[0;32m   2981\u001b[0m             \u001b[1;32mif\u001b[0m \u001b[0mis_integer\u001b[0m\u001b[1;33m(\u001b[0m\u001b[0mindexer\u001b[0m\u001b[1;33m)\u001b[0m\u001b[1;33m:\u001b[0m\u001b[1;33m\u001b[0m\u001b[1;33m\u001b[0m\u001b[0m\n\u001b[0;32m   2982\u001b[0m                 \u001b[0mindexer\u001b[0m \u001b[1;33m=\u001b[0m \u001b[1;33m[\u001b[0m\u001b[0mindexer\u001b[0m\u001b[1;33m]\u001b[0m\u001b[1;33m\u001b[0m\u001b[1;33m\u001b[0m\u001b[0m\n",
      "\u001b[1;32m~\\Anaconda3\\lib\\site-packages\\pandas\\core\\indexes\\base.py\u001b[0m in \u001b[0;36mget_loc\u001b[1;34m(self, key, method, tolerance)\u001b[0m\n\u001b[0;32m   2897\u001b[0m                 \u001b[1;32mreturn\u001b[0m \u001b[0mself\u001b[0m\u001b[1;33m.\u001b[0m\u001b[0m_engine\u001b[0m\u001b[1;33m.\u001b[0m\u001b[0mget_loc\u001b[0m\u001b[1;33m(\u001b[0m\u001b[0mkey\u001b[0m\u001b[1;33m)\u001b[0m\u001b[1;33m\u001b[0m\u001b[1;33m\u001b[0m\u001b[0m\n\u001b[0;32m   2898\u001b[0m             \u001b[1;32mexcept\u001b[0m \u001b[0mKeyError\u001b[0m\u001b[1;33m:\u001b[0m\u001b[1;33m\u001b[0m\u001b[1;33m\u001b[0m\u001b[0m\n\u001b[1;32m-> 2899\u001b[1;33m                 \u001b[1;32mreturn\u001b[0m \u001b[0mself\u001b[0m\u001b[1;33m.\u001b[0m\u001b[0m_engine\u001b[0m\u001b[1;33m.\u001b[0m\u001b[0mget_loc\u001b[0m\u001b[1;33m(\u001b[0m\u001b[0mself\u001b[0m\u001b[1;33m.\u001b[0m\u001b[0m_maybe_cast_indexer\u001b[0m\u001b[1;33m(\u001b[0m\u001b[0mkey\u001b[0m\u001b[1;33m)\u001b[0m\u001b[1;33m)\u001b[0m\u001b[1;33m\u001b[0m\u001b[1;33m\u001b[0m\u001b[0m\n\u001b[0m\u001b[0;32m   2900\u001b[0m         \u001b[0mindexer\u001b[0m \u001b[1;33m=\u001b[0m \u001b[0mself\u001b[0m\u001b[1;33m.\u001b[0m\u001b[0mget_indexer\u001b[0m\u001b[1;33m(\u001b[0m\u001b[1;33m[\u001b[0m\u001b[0mkey\u001b[0m\u001b[1;33m]\u001b[0m\u001b[1;33m,\u001b[0m \u001b[0mmethod\u001b[0m\u001b[1;33m=\u001b[0m\u001b[0mmethod\u001b[0m\u001b[1;33m,\u001b[0m \u001b[0mtolerance\u001b[0m\u001b[1;33m=\u001b[0m\u001b[0mtolerance\u001b[0m\u001b[1;33m)\u001b[0m\u001b[1;33m\u001b[0m\u001b[1;33m\u001b[0m\u001b[0m\n\u001b[0;32m   2901\u001b[0m         \u001b[1;32mif\u001b[0m \u001b[0mindexer\u001b[0m\u001b[1;33m.\u001b[0m\u001b[0mndim\u001b[0m \u001b[1;33m>\u001b[0m \u001b[1;36m1\u001b[0m \u001b[1;32mor\u001b[0m \u001b[0mindexer\u001b[0m\u001b[1;33m.\u001b[0m\u001b[0msize\u001b[0m \u001b[1;33m>\u001b[0m \u001b[1;36m1\u001b[0m\u001b[1;33m:\u001b[0m\u001b[1;33m\u001b[0m\u001b[1;33m\u001b[0m\u001b[0m\n",
      "\u001b[1;32mpandas\\_libs\\index.pyx\u001b[0m in \u001b[0;36mpandas._libs.index.IndexEngine.get_loc\u001b[1;34m()\u001b[0m\n",
      "\u001b[1;32mpandas\\_libs\\index.pyx\u001b[0m in \u001b[0;36mpandas._libs.index.IndexEngine.get_loc\u001b[1;34m()\u001b[0m\n",
      "\u001b[1;32mpandas\\_libs\\hashtable_class_helper.pxi\u001b[0m in \u001b[0;36mpandas._libs.hashtable.PyObjectHashTable.get_item\u001b[1;34m()\u001b[0m\n",
      "\u001b[1;32mpandas\\_libs\\hashtable_class_helper.pxi\u001b[0m in \u001b[0;36mpandas._libs.hashtable.PyObjectHashTable.get_item\u001b[1;34m()\u001b[0m\n",
      "\u001b[1;31mKeyError\u001b[0m: 'cloudy'"
     ]
    }
   ],
   "source": [
    "# Build a scatter plot for each data type\n",
    "plt.scatter(weather_data[\"lat\"], weather_data[\"cloudy\"], marker=\"o\")\n",
    "\n",
    "# Incorporate the other graph properties\n",
    "plt.title(\"City Latitude vs Cloudiness\")\n",
    "plt.ylabel(\"Cloudiness %\")\n",
    "plt.xlabel(\"Latitude\")\n",
    "plt.grid(True)\n",
    "\n",
    "# Save the figure\n",
    "plt.savefig(\"CloudinessInWorldCities.png\")\n",
    "\n",
    "# Show plot\n",
    "plt.show()"
   ]
  },
  {
   "cell_type": "markdown",
   "metadata": {},
   "source": [
    "#### Latitude vs. Wind Speed Plot"
   ]
  },
  {
   "cell_type": "code",
   "execution_count": 41,
   "metadata": {},
   "outputs": [
    {
     "data": {
      "image/png": "[encoded data removed]",
      "text/plain": [
       "<Figure size 432x288 with 1 Axes>"
      ]
     },
     "metadata": {
      "needs_background": "light"
     },
     "output_type": "display_data"
    }
   ],
   "source": [
    "# Build a scatter plot for each data type\n",
    "plt.scatter(weather_data[\"lat\"], weather_data[\"windy\"], marker=\"o\")\n",
    "\n",
    "# Incorporate the other graph properties\n",
    "plt.title(\"City Wind Speed vs Latitude\")\n",
    "plt.ylabel(\"Wind Speed\")\n",
    "plt.xlabel(\"Latitude\")\n",
    "plt.grid(True)\n",
    "\n",
    "# Save the figure\n",
    "plt.savefig(\"Wind_SpeedInWorldCities.png\")\n",
    "\n",
    "# Show plot\n",
    "plt.show()"
   ]
  },
  {
   "cell_type": "code",
   "execution_count": null,
   "metadata": {},
   "outputs": [],
   "source": []
  }
 ],
 "metadata": {
  "anaconda-cloud": {},
  "kernel_info": {
   "name": "python3"
  },
  "kernelspec": {
   "display_name": "Python 3",
   "language": "python",
   "name": "python3"
  },
  "language_info": {
   "codemirror_mode": {
    "name": "ipython",
    "version": 3
   },
   "file_extension": ".py",
   "mimetype": "text/x-python",
   "name": "python",
   "nbconvert_exporter": "python",
   "pygments_lexer": "ipython3",
   "version": "3.7.4"
  },
  "nteract": {
   "version": "0.12.3"
  }
 },
 "nbformat": 4,
 "nbformat_minor": 2
}
